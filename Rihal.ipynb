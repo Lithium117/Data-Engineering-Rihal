{
 "cells": [
  {
   "cell_type": "markdown",
   "metadata": {},
   "source": [
    "# Rihal Data Engineer challenge"
   ]
  },
  {
   "cell_type": "code",
   "execution_count": 183,
   "metadata": {},
   "outputs": [],
   "source": [
    "# start by importing modules needed for this project.\n",
    "\n",
    "import cv2\n",
    "import pandas as pd\n",
    "import pytesseract\n",
    "import re\n",
    "pytesseract.pytesseract.tesseract_cmd = r'C:\\Users\\moham\\AppData\\Local\\Tesseract-OCR\\Tesseract.exe'\n"
   ]
  },
  {
   "cell_type": "markdown",
   "metadata": {},
   "source": [
    "-Using open CV to read the image.\n",
    "-The image needed to be resized to allow the the text within the image to be written to text via pytesseract."
   ]
  },
  {
   "cell_type": "code",
   "execution_count": 184,
   "metadata": {
    "scrolled": true
   },
   "outputs": [
    {
     "name": "stdout",
     "output_type": "stream",
     "text": [
      "From: Al Amri, Salim <salim.amri@gmail.com>\n",
      "\n",
      "Sent: 25 August 2021 17:20\n",
      "\n",
      "To: Al Harthi, Mohammed <mohd4.king@rihal.om>\n",
      "\n",
      "Cc: Al hajri, Malik <hajri990@ocaa.co.om>; Omar, Naif <nnnn49@apple.com>\n",
      "\n",
      "Subject: Conference Rooms Booking Details\n",
      "\n",
      "Dear Mohammed,\n",
      "\n",
      "As per our last discussion these are the available conference rooms available for booking along\n",
      "with their rates for full day:\n",
      "\n",
      "- Room: Luban, available on 26/09/2021. Rate: $4540\n",
      "\n",
      "- Room: Mazoon, available on 04/12/2021 and 13/02/2022. Rate: $3000\n",
      "- Room: Dhofar. Available on 11/11/2021. Rate: $2500\n",
      "\n",
      "- Room: Nizwa. Available on 13/12/2022. Rate: $1200\n",
      "\n",
      "Please let me know which ones you are interested so we go through more details.\n",
      "Best regards,\n",
      "\n",
      "Salim Al Amri\n",
      "\f",
      "\n"
     ]
    }
   ],
   "source": [
    "# Reading the image\n",
    "img = cv2.imread(\"Email.png\")\n",
    "\n",
    "img = cv2.resize(img, None, fx=2, fy=2, interpolation=cv2. INTER_LANCZOS4)\n",
    "\n",
    "text = pytesseract.image_to_string (img)\n",
    "print(text)\n"
   ]
  },
  {
   "cell_type": "markdown",
   "metadata": {},
   "source": [
    "Finding Dates:\n",
    "By using rejects we (regex) the format of which we want to extract from (text) \n",
    "We use strftime to change the format to the required form. "
   ]
  },
  {
   "cell_type": "code",
   "execution_count": 185,
   "metadata": {},
   "outputs": [
    {
     "name": "stdout",
     "output_type": "stream",
     "text": [
      "['2021-09-26', '2021-04-12', '2022-02-13', '2021-11-11', '2022-12-13']\n"
     ]
    }
   ],
   "source": [
    "dates = re.findall(r\"[\\d]+\\/[\\d]+\\/[\\d]+\",text)\n",
    "\n",
    "dates = pd.to_datetime(dates)\n",
    "\n",
    "dates = dates.strftime(\"%Y-%m-%d\")\n",
    "print(list(dates))"
   ]
  },
  {
   "cell_type": "markdown",
   "metadata": {},
   "source": [
    "Finding emails"
   ]
  },
  {
   "cell_type": "code",
   "execution_count": 186,
   "metadata": {},
   "outputs": [
    {
     "name": "stdout",
     "output_type": "stream",
     "text": [
      "['salim.amri@gmail.com', 'mohd4.king@rihal.om', 'hajri990@ocaa.co.om', 'nnnn49@apple.com']\n"
     ]
    }
   ],
   "source": [
    "email=re.findall(r\"[a-z0-9\\.\\-+_]+@[a-z0-9\\.\\-+]+\\.[a-z]+\",text)\n",
    "\n",
    "print(email)"
   ]
  },
  {
   "cell_type": "markdown",
   "metadata": {},
   "source": [
    "Finding rooms and their corresponting rates"
   ]
  },
  {
   "cell_type": "code",
   "execution_count": 187,
   "metadata": {},
   "outputs": [
    {
     "name": "stdout",
     "output_type": "stream",
     "text": [
      "['Room: Luban,', 'Room: Mazoon,', 'Room: Dhofar.', 'Room: Nizwa.']\n",
      "['Rate: $4540', 'Rate: $3000', 'Rate: $2500', 'Rate: $1200']\n"
     ]
    }
   ],
   "source": [
    "rooms = re.findall(r\"Room:\\s\\w+[,|.]\",text)\n",
    "rates = re.findall(r\"Rate:\\s[$]\\d+\",text)\n",
    "print(rooms)\n",
    "print(rates)"
   ]
  },
  {
   "cell_type": "markdown",
   "metadata": {},
   "source": [
    "Finding names and wrinting it the required form (First name, last name). "
   ]
  },
  {
   "cell_type": "code",
   "execution_count": 188,
   "metadata": {},
   "outputs": [
    {
     "name": "stdout",
     "output_type": "stream",
     "text": [
      "['Al Amri, Salim', 'Al Harthi, Mohammed', 'Al hajri, Malik', ' Omar, Naif']\n"
     ]
    }
   ],
   "source": [
    "names = re.findall(r\"Al\\s\\w+[,]\\s\\w+|\\s\\w{4}[,]\\s\\w+\",text)\n",
    "Lambda = []\n",
    "for i in names:\n",
    "    names = i.split(\",\")\n",
    "    Lambda.append(i)\n",
    "print(Lambda)\n",
    "\n",
    "\n"
   ]
  },
  {
   "cell_type": "code",
   "execution_count": 189,
   "metadata": {},
   "outputs": [
    {
     "name": "stdout",
     "output_type": "stream",
     "text": [
      " Salim Al Amri\n",
      " Mohammed Al Harthi\n",
      " Malik Al hajri\n",
      " Naif Omar\n"
     ]
    }
   ],
   "source": [
    "\n",
    "name1= Lambda[0].split(\",\")\n",
    "name2= Lambda[1].split(\",\")\n",
    "name3= Lambda[2].split(\",\")\n",
    "name4= Lambda[3].split(\",\")\n",
    "\n",
    "print(name1[1]+\" \"+name1[0])\n",
    "print(name2[1]+\" \"+name2[0])\n",
    "print(name3[1]+\" \"+name3[0])\n",
    "print(name4[1]+\"\"+name4[0])"
   ]
  },
  {
   "cell_type": "code",
   "execution_count": null,
   "metadata": {},
   "outputs": [],
   "source": []
  }
 ],
 "metadata": {
  "kernelspec": {
   "display_name": "Python 3",
   "language": "python",
   "name": "python3"
  },
  "language_info": {
   "codemirror_mode": {
    "name": "ipython",
    "version": 3
   },
   "file_extension": ".py",
   "mimetype": "text/x-python",
   "name": "python",
   "nbconvert_exporter": "python",
   "pygments_lexer": "ipython3",
   "version": "3.7.4"
  }
 },
 "nbformat": 4,
 "nbformat_minor": 2
}
